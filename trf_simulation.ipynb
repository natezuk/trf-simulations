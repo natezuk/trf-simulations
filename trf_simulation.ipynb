{
 "cells": [
  {
   "cell_type": "markdown",
   "id": "00c90202",
   "metadata": {},
   "source": [
    "## TRF simulation - one continuous measure\n",
    "\n",
    "Create a simulated dataset of a speech tracking response, varying the amount of data and the SNR.\n",
    "Estimate the TRF using both ridge regression and boosting.\n"
   ]
  },
  {
   "cell_type": "code",
   "execution_count": null,
   "id": "3583ca89",
   "metadata": {},
   "outputs": [],
   "source": [
    "# Import relevant python packages\n",
    "import numpy as np\n",
    "import pandas as pd\n",
    "import scipy.stats as stats\n",
    "import eelbrain as eel\n",
    "import mne\n",
    "import mtrf"
   ]
  },
  {
   "cell_type": "code",
   "execution_count": null,
   "id": "b6bd5e16",
   "metadata": {},
   "outputs": [],
   "source": [
    "### Generate a target signal\n",
    "sfreq = 128\n",
    "trf_freq = 6 # modulation frequency of the TRF (will aim for a signal with an N100 and P200, approximately)\n",
    "nchan = 1 # number of EEG channels"
   ]
  }
 ],
 "metadata": {
  "kernelspec": {
   "display_name": "mne",
   "language": "python",
   "name": "python3"
  },
  "language_info": {
   "name": "python",
   "version": "3.11.11"
  }
 },
 "nbformat": 4,
 "nbformat_minor": 5
}
