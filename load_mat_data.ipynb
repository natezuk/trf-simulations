{
 "cells": [
  {
   "cell_type": "markdown",
   "id": "00ef6fd8",
   "metadata": {},
   "source": [
    "### Load speech data and store in pickle"
   ]
  },
  {
   "cell_type": "code",
   "execution_count": 1,
   "id": "f9ee9813",
   "metadata": {},
   "outputs": [],
   "source": [
    "from scipy.io import loadmat\n",
    "import numpy as np\n",
    "import mne"
   ]
  },
  {
   "cell_type": "code",
   "execution_count": 12,
   "id": "8775569a",
   "metadata": {},
   "outputs": [],
   "source": [
    "# Load the .mat file\n",
    "filename = 'speech_data.mat'\n",
    "mat = loadmat(filename)\n",
    "resp = mat['resp']\n",
    "stim = mat['stim']\n",
    "fs = mat['fs']"
   ]
  },
  {
   "cell_type": "code",
   "execution_count": 11,
   "id": "71984d94",
   "metadata": {},
   "outputs": [
    {
     "name": "stdout",
     "output_type": "stream",
     "text": [
      "(15354, 128)\n",
      "(15354, 16)\n"
     ]
    }
   ],
   "source": [
    "print(resp.shape)\n",
    "print(stim.shape)"
   ]
  },
  {
   "cell_type": "code",
   "execution_count": 14,
   "id": "c85daf9a",
   "metadata": {},
   "outputs": [],
   "source": [
    "# Save the data in pickle format\n",
    "import os\n",
    "import pickle\n",
    "\n",
    "fn = os.path.basename(filename) # remove path\n",
    "fn = os.path.splitext(fn)[0] # remove the extension\n",
    "\n",
    "speech_data = {\n",
    "    'fs': fs,\n",
    "    'stim': stim,\n",
    "    'resp': resp,\n",
    "}\n",
    "\n",
    "with open(fn + '.pkl', 'wb') as file:\n",
    "    pickle.dump(speech_data,file)"
   ]
  }
 ],
 "metadata": {
  "kernelspec": {
   "display_name": "mne",
   "language": "python",
   "name": "python3"
  },
  "language_info": {
   "codemirror_mode": {
    "name": "ipython",
    "version": 3
   },
   "file_extension": ".py",
   "mimetype": "text/x-python",
   "name": "python",
   "nbconvert_exporter": "python",
   "pygments_lexer": "ipython3",
   "version": "3.11.11"
  }
 },
 "nbformat": 4,
 "nbformat_minor": 5
}
