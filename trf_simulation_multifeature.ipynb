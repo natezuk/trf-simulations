{
 "cells": [
  {
   "cell_type": "markdown",
   "id": "00c90202",
   "metadata": {},
   "source": [
    "## TRF simulation - multi-feature\n",
    "\n",
    "Create a simulated dataset of a speech tracking response, varying the amount of data and the SNR.\n",
    "In this stimulation, the simulated brain signal is composed both of a continuous measure as well as a discrete feature that is correlated with the original feature.\n",
    "Estimate the TRF using both ridge regression and boosting.\n"
   ]
  }
 ],
 "metadata": {
  "kernelspec": {
   "display_name": "mne",
   "language": "python",
   "name": "python3"
  },
  "language_info": {
   "name": "python",
   "version": "3.11.11"
  }
 },
 "nbformat": 4,
 "nbformat_minor": 5
}
